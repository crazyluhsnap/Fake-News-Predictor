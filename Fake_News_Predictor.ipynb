{
  "nbformat": 4,
  "nbformat_minor": 0,
  "metadata": {
    "colab": {
      "provenance": []
    },
    "kernelspec": {
      "name": "python3",
      "display_name": "Python 3"
    },
    "language_info": {
      "name": "python"
    }
  },
  "cells": [
    {
      "cell_type": "code",
      "execution_count": null,
      "metadata": {
        "id": "0JN-nVsBu8rs"
      },
      "outputs": [],
      "source": [
        "import numpy as np\n",
        "import pandas as pd\n",
        "import re\n",
        "from nltk.corpus import stopwords\n",
        "from nltk.stem.porter import PorterStemmer\n",
        "from sklearn.feature_extraction.text import TfidfVectorizer\n",
        "from sklearn.model_selection import train_test_split\n",
        "from sklearn.linear_model import LogisticRegression\n",
        "from sklearn.metrics import accuracy_score"
      ]
    },
    {
      "cell_type": "code",
      "source": [
        "import nltk\n",
        "nltk.download('stopwords')"
      ],
      "metadata": {
        "colab": {
          "base_uri": "https://localhost:8080/"
        },
        "id": "CGthnxFrzEvp",
        "outputId": "061559e9-8649-4aaf-872c-b7199628e82d"
      },
      "execution_count": null,
      "outputs": [
        {
          "output_type": "stream",
          "name": "stderr",
          "text": [
            "[nltk_data] Downloading package stopwords to /root/nltk_data...\n",
            "[nltk_data]   Package stopwords is already up-to-date!\n"
          ]
        },
        {
          "output_type": "execute_result",
          "data": {
            "text/plain": [
              "True"
            ]
          },
          "metadata": {},
          "execution_count": 4
        }
      ]
    },
    {
      "cell_type": "code",
      "source": [
        "#printing the stopwords in english\n",
        "print(stopwords.words('english'))"
      ],
      "metadata": {
        "colab": {
          "base_uri": "https://localhost:8080/"
        },
        "id": "WJa4vR4T0hbz",
        "outputId": "e9fb95ce-c553-418e-daf1-1c29d1ad2dda"
      },
      "execution_count": null,
      "outputs": [
        {
          "output_type": "stream",
          "name": "stdout",
          "text": [
            "['a', 'about', 'above', 'after', 'again', 'against', 'ain', 'all', 'am', 'an', 'and', 'any', 'are', 'aren', \"aren't\", 'as', 'at', 'be', 'because', 'been', 'before', 'being', 'below', 'between', 'both', 'but', 'by', 'can', 'couldn', \"couldn't\", 'd', 'did', 'didn', \"didn't\", 'do', 'does', 'doesn', \"doesn't\", 'doing', 'don', \"don't\", 'down', 'during', 'each', 'few', 'for', 'from', 'further', 'had', 'hadn', \"hadn't\", 'has', 'hasn', \"hasn't\", 'have', 'haven', \"haven't\", 'having', 'he', \"he'd\", \"he'll\", 'her', 'here', 'hers', 'herself', \"he's\", 'him', 'himself', 'his', 'how', 'i', \"i'd\", 'if', \"i'll\", \"i'm\", 'in', 'into', 'is', 'isn', \"isn't\", 'it', \"it'd\", \"it'll\", \"it's\", 'its', 'itself', \"i've\", 'just', 'll', 'm', 'ma', 'me', 'mightn', \"mightn't\", 'more', 'most', 'mustn', \"mustn't\", 'my', 'myself', 'needn', \"needn't\", 'no', 'nor', 'not', 'now', 'o', 'of', 'off', 'on', 'once', 'only', 'or', 'other', 'our', 'ours', 'ourselves', 'out', 'over', 'own', 're', 's', 'same', 'shan', \"shan't\", 'she', \"she'd\", \"she'll\", \"she's\", 'should', 'shouldn', \"shouldn't\", \"should've\", 'so', 'some', 'such', 't', 'than', 'that', \"that'll\", 'the', 'their', 'theirs', 'them', 'themselves', 'then', 'there', 'these', 'they', \"they'd\", \"they'll\", \"they're\", \"they've\", 'this', 'those', 'through', 'to', 'too', 'under', 'until', 'up', 've', 'very', 'was', 'wasn', \"wasn't\", 'we', \"we'd\", \"we'll\", \"we're\", 'were', 'weren', \"weren't\", \"we've\", 'what', 'when', 'where', 'which', 'while', 'who', 'whom', 'why', 'will', 'with', 'won', \"won't\", 'wouldn', \"wouldn't\", 'y', 'you', \"you'd\", \"you'll\", 'your', \"you're\", 'yours', 'yourself', 'yourselves', \"you've\"]\n"
          ]
        }
      ]
    },
    {
      "cell_type": "markdown",
      "source": [
        "Combining fake and real news dataset"
      ],
      "metadata": {
        "id": "LNYsq-TE1ID6"
      }
    },
    {
      "cell_type": "code",
      "source": [
        "real_news=pd.read_csv(\"True.csv\")\n",
        "fake_news=pd.read_csv(\"Fake.csv\")\n",
        "\n",
        "real_news[\"label\"]=1\n",
        "fake_news[\"label\"]=0\n",
        "\n",
        "combined_data=pd.concat([real_news,fake_news],axis=0)\n",
        "\n",
        "combined_data=combined_data.sample(frac=1, random_state=42).reset_index(drop=True)\n",
        "\n",
        "combined_data.to_csv(\"combined_news.csv\",index=False)\n",
        "\n",
        "print(\"Combined Dataset created successfully\")\n",
        "print(\"Shape: \", combined_data.shape)\n",
        "print(combined_data.head())"
      ],
      "metadata": {
        "id": "oZpmVJjU1BF0",
        "colab": {
          "base_uri": "https://localhost:8080/"
        },
        "outputId": "ee8000bf-7e15-4e96-cb47-4cbd0cbc05aa"
      },
      "execution_count": 10,
      "outputs": [
        {
          "output_type": "stream",
          "name": "stdout",
          "text": [
            "Combined Dataset created successfully\n",
            "Shape:  (44898, 5)\n",
            "                                               title  ... label\n",
            "0   BREAKING: GOP Chairman Grassley Has Had Enoug...  ...     0\n",
            "1   Failed GOP Candidates Remembered In Hilarious...  ...     0\n",
            "2   Mike Pence’s New DC Neighbors Are HILARIOUSLY...  ...     0\n",
            "3  California AG pledges to defend birth control ...  ...     1\n",
            "4  AZ RANCHERS Living On US-Mexico Border Destroy...  ...     0\n",
            "\n",
            "[5 rows x 5 columns]\n"
          ]
        }
      ]
    },
    {
      "cell_type": "markdown",
      "source": [
        "Data Pre-Processing"
      ],
      "metadata": {
        "id": "FYjdfyNj6Uqd"
      }
    },
    {
      "cell_type": "code",
      "source": [
        "#loading the dataset into pandas dataframe\n",
        "news_dataset=pd.read_csv('/content/combined_news.csv')\n"
      ],
      "metadata": {
        "id": "lMInhNDt6SI0"
      },
      "execution_count": 11,
      "outputs": []
    },
    {
      "cell_type": "code",
      "source": [
        "news_dataset.shape"
      ],
      "metadata": {
        "colab": {
          "base_uri": "https://localhost:8080/"
        },
        "id": "4as2CP3A7ldE",
        "outputId": "0398d63e-24c0-4ae1-8519-1b77c2758f86"
      },
      "execution_count": 12,
      "outputs": [
        {
          "output_type": "execute_result",
          "data": {
            "text/plain": [
              "(44898, 5)"
            ]
          },
          "metadata": {},
          "execution_count": 12
        }
      ]
    },
    {
      "cell_type": "code",
      "source": [
        "#counting the number of missing values in the dataset\n",
        "news_dataset.isnull().sum()"
      ],
      "metadata": {
        "colab": {
          "base_uri": "https://localhost:8080/",
          "height": 241
        },
        "id": "RIwVbKMx7-c0",
        "outputId": "4ab7b34c-f1a7-4787-c3e5-29c5b25a428c"
      },
      "execution_count": 13,
      "outputs": [
        {
          "output_type": "execute_result",
          "data": {
            "text/plain": [
              "title      0\n",
              "text       0\n",
              "subject    0\n",
              "date       0\n",
              "label      0\n",
              "dtype: int64"
            ],
            "text/html": [
              "<div>\n",
              "<style scoped>\n",
              "    .dataframe tbody tr th:only-of-type {\n",
              "        vertical-align: middle;\n",
              "    }\n",
              "\n",
              "    .dataframe tbody tr th {\n",
              "        vertical-align: top;\n",
              "    }\n",
              "\n",
              "    .dataframe thead th {\n",
              "        text-align: right;\n",
              "    }\n",
              "</style>\n",
              "<table border=\"1\" class=\"dataframe\">\n",
              "  <thead>\n",
              "    <tr style=\"text-align: right;\">\n",
              "      <th></th>\n",
              "      <th>0</th>\n",
              "    </tr>\n",
              "  </thead>\n",
              "  <tbody>\n",
              "    <tr>\n",
              "      <th>title</th>\n",
              "      <td>0</td>\n",
              "    </tr>\n",
              "    <tr>\n",
              "      <th>text</th>\n",
              "      <td>0</td>\n",
              "    </tr>\n",
              "    <tr>\n",
              "      <th>subject</th>\n",
              "      <td>0</td>\n",
              "    </tr>\n",
              "    <tr>\n",
              "      <th>date</th>\n",
              "      <td>0</td>\n",
              "    </tr>\n",
              "    <tr>\n",
              "      <th>label</th>\n",
              "      <td>0</td>\n",
              "    </tr>\n",
              "  </tbody>\n",
              "</table>\n",
              "</div><br><label><b>dtype:</b> int64</label>"
            ]
          },
          "metadata": {},
          "execution_count": 13
        }
      ]
    },
    {
      "cell_type": "code",
      "source": [
        "#replacing null value with empty string\n",
        "news_dataset=news_dataset.fillna('')"
      ],
      "metadata": {
        "id": "GU_1zLZq7ozs"
      },
      "execution_count": 14,
      "outputs": []
    },
    {
      "cell_type": "code",
      "source": [
        "#merging the title and text column\n",
        "news_dataset['content']=news_dataset['title']+' '+news_dataset['text']"
      ],
      "metadata": {
        "id": "PH2Vyrge85KO"
      },
      "execution_count": 17,
      "outputs": []
    },
    {
      "cell_type": "code",
      "source": [
        "print(news_dataset['content'])"
      ],
      "metadata": {
        "colab": {
          "base_uri": "https://localhost:8080/"
        },
        "id": "bNCzKGnkHVUA",
        "outputId": "a355d7f2-432e-4e4f-b9f6-91c067f43f52"
      },
      "execution_count": 18,
      "outputs": [
        {
          "output_type": "stream",
          "name": "stdout",
          "text": [
            "0         BREAKING: GOP Chairman Grassley Has Had Enoug...\n",
            "1         Failed GOP Candidates Remembered In Hilarious...\n",
            "2         Mike Pence’s New DC Neighbors Are HILARIOUSLY...\n",
            "3        California AG pledges to defend birth control ...\n",
            "4        AZ RANCHERS Living On US-Mexico Border Destroy...\n",
            "                               ...                        \n",
            "44893    Nigeria says U.S. agrees delayed $593 million ...\n",
            "44894    Boiler Room #62 – Fatal Illusions Tune in to t...\n",
            "44895    ATHEISTS SUE GOVERNOR OF TEXAS Over Display on...\n",
            "44896    Republican tax plan would deal financial hit t...\n",
            "44897    U.N. refugee commissioner says Australia must ...\n",
            "Name: content, Length: 44898, dtype: object\n"
          ]
        }
      ]
    },
    {
      "cell_type": "code",
      "source": [
        "#separating the data and label\n",
        "X=news_dataset.drop(columns='label',axis=1)\n",
        "Y=news_dataset['label']"
      ],
      "metadata": {
        "id": "oSOqRQV9HYvT"
      },
      "execution_count": 19,
      "outputs": []
    },
    {
      "cell_type": "code",
      "source": [
        "print(X)\n",
        "print(Y)"
      ],
      "metadata": {
        "colab": {
          "base_uri": "https://localhost:8080/"
        },
        "id": "LC_i0Du3KPM4",
        "outputId": "193de6a5-c544-4dfe-8f21-33a71fd4b45a"
      },
      "execution_count": 20,
      "outputs": [
        {
          "output_type": "stream",
          "name": "stdout",
          "text": [
            "                                                   title  ...                                            content\n",
            "0       BREAKING: GOP Chairman Grassley Has Had Enoug...  ...   BREAKING: GOP Chairman Grassley Has Had Enoug...\n",
            "1       Failed GOP Candidates Remembered In Hilarious...  ...   Failed GOP Candidates Remembered In Hilarious...\n",
            "2       Mike Pence’s New DC Neighbors Are HILARIOUSLY...  ...   Mike Pence’s New DC Neighbors Are HILARIOUSLY...\n",
            "3      California AG pledges to defend birth control ...  ...  California AG pledges to defend birth control ...\n",
            "4      AZ RANCHERS Living On US-Mexico Border Destroy...  ...  AZ RANCHERS Living On US-Mexico Border Destroy...\n",
            "...                                                  ...  ...                                                ...\n",
            "44893  Nigeria says U.S. agrees delayed $593 million ...  ...  Nigeria says U.S. agrees delayed $593 million ...\n",
            "44894                  Boiler Room #62 – Fatal Illusions  ...  Boiler Room #62 – Fatal Illusions Tune in to t...\n",
            "44895  ATHEISTS SUE GOVERNOR OF TEXAS Over Display on...  ...  ATHEISTS SUE GOVERNOR OF TEXAS Over Display on...\n",
            "44896  Republican tax plan would deal financial hit t...  ...  Republican tax plan would deal financial hit t...\n",
            "44897  U.N. refugee commissioner says Australia must ...  ...  U.N. refugee commissioner says Australia must ...\n",
            "\n",
            "[44898 rows x 5 columns]\n",
            "0        0\n",
            "1        0\n",
            "2        0\n",
            "3        1\n",
            "4        0\n",
            "        ..\n",
            "44893    1\n",
            "44894    0\n",
            "44895    0\n",
            "44896    1\n",
            "44897    1\n",
            "Name: label, Length: 44898, dtype: int64\n"
          ]
        }
      ]
    },
    {
      "cell_type": "markdown",
      "source": [
        "Stemming (a process of reducing a word to it's root word)\n",
        "\n",
        "ex: actor, actress, acting --> act"
      ],
      "metadata": {
        "id": "mpqEAuAaKhWm"
      }
    },
    {
      "cell_type": "code",
      "source": [
        "port_stem = PorterStemmer()"
      ],
      "metadata": {
        "id": "GrFX-IzoKUoq"
      },
      "execution_count": 21,
      "outputs": []
    },
    {
      "cell_type": "code",
      "source": [
        "def stemming(content):\n",
        "  stemmed_content=re.sub('[^a-zA-Z]',' ',content)\n",
        "  stemmed_content=stemmed_content.lower()\n",
        "  stemmed_content=stemmed_content.split()\n",
        "  stemmed_content=[port_stem.stem(word) for word in stemmed_content if not word in stopwords.words('english')]\n",
        "  stemmed_content=' '.join(stemmed_content)\n",
        "  return stemmed_content"
      ],
      "metadata": {
        "id": "KTE8ygiyLI1Y"
      },
      "execution_count": 22,
      "outputs": []
    },
    {
      "cell_type": "code",
      "source": [
        "news_dataset['content']=news_dataset['content'].apply(stemming)"
      ],
      "metadata": {
        "id": "wPW-ahNQjO0o"
      },
      "execution_count": 24,
      "outputs": []
    },
    {
      "cell_type": "code",
      "source": [
        "print(news_dataset['content'])"
      ],
      "metadata": {
        "colab": {
          "base_uri": "https://localhost:8080/"
        },
        "id": "U3OKFJPZmQo0",
        "outputId": "cc4c6f46-2774-4413-da2f-5288215b2e3a"
      },
      "execution_count": 25,
      "outputs": [
        {
          "output_type": "stream",
          "name": "stdout",
          "text": [
            "0        break gop chairman grassley enough demand trum...\n",
            "1        fail gop candid rememb hilari mock eulog video...\n",
            "2        mike penc new dc neighbor hilari troll homopho...\n",
            "3        california ag pledg defend birth control insur...\n",
            "4        az rancher live us mexico border destroy nanci...\n",
            "                               ...                        \n",
            "44893    nigeria say u agre delay million fighter plane...\n",
            "44894    boiler room fatal illus tune altern current ra...\n",
            "44895    atheist sue governor texa display capitol grou...\n",
            "44896    republican tax plan would deal financi hit u u...\n",
            "44897    u n refuge commission say australia must stop ...\n",
            "Name: content, Length: 44898, dtype: object\n"
          ]
        }
      ]
    },
    {
      "cell_type": "code",
      "source": [
        "#separating the data and label\n",
        "X=news_dataset['content'].values\n",
        "Y=news_dataset['label'].values"
      ],
      "metadata": {
        "id": "5ps_n0P2rl3g"
      },
      "execution_count": 34,
      "outputs": []
    },
    {
      "cell_type": "code",
      "source": [
        "print(X)"
      ],
      "metadata": {
        "colab": {
          "base_uri": "https://localhost:8080/"
        },
        "id": "DsZTAxzVsDxv",
        "outputId": "dc52a175-83ca-42b1-a39a-817a6ba95045"
      },
      "execution_count": 35,
      "outputs": [
        {
          "output_type": "stream",
          "name": "stdout",
          "text": [
            "['break gop chairman grassley enough demand trump jr testimoni donald trump white hous chao tri cover russia problem mount hour refus acknowledg problem surround fake news hoax howev fact bear thing differ seem crack congression public leadership chuck grassley r iowa head senat judiciari committe fed demand donald trump jr former trump campaign manag paul manafort testifi committe regard infam shadi meet donald trump shadi russian lawyer promis dirt democrat presidenti nomine hillari clinton fact inform due well demand send signal team trump notabl fire special counsel robert mueller circumst despit fact seem seem trump white hous lay groundwork speak speak tweet regard grassley warn also anyon think senat grassley rest senat seriou need look warn alreadi given trump jr manafort either follow order serv subpoena forc compli refus held contempt congress carri seriou jail time even cruel craven creatur within gop sick donald trump corrupt scandal ridden white hous angri stage hostil takeov parti first birther give perman racist label decim effort made pretend republican parti hotb racism turn world upsid nation seem old timer like grassley clearli sick trump bullshit might one could save republ need bit courag featur imag via win mcname getti imag'\n",
            " 'fail gop candid rememb hilari mock eulog video donald trump presumpt gop nomine time rememb candid tri hard beat race white hous forget misstep gaff weird sheer idioci candid jeb bush marco rubio john kasich ted cruz ben carson carli fiorina video make round twitter eulog three fail candid though dead gop might well dead point anyway appropri titl eulog gop peopl make short speech candid past man actual say jeb bush qualifi presid fake tear journalist comedienn francesca fiorentini say dearli belov gather today commemor candid longer us one man speak amus circu rendit chopin funer march rememb jeb way jeb hardli knew ye bad polici find way republican morass inde like jeb polici invis sometim although mani felt would win nomin earli best perform often came debat get fight donald trump virtual everyth sun also bad habit defend brother action iraq memor say relat brother one thing know sure kept us safe move marco rubio fiorentini say call mani thing young charm lil marco last nicknam cours refer trump penchant name call man speak spanish rememb rubio way marco normal boy anoth said involv gang eight immigr bill kill candid fiorentini repli peopl die gang violenc die gang eight violenc maker video save absolut best last cours ben carson dear dr carson one speaker say would gentli rock sleep monoton voic carson especi well known seemingli asleep half time saw eye open wide surpris like surpris voic soft speech slow realli hard stay awak talk imagin give state union address see whole video especi spectacular end carson eulog watch take moment say g bye gop candid http co bl zv aj ajplu may featur imag via screen captur embed video'\n",
            " 'mike penc new dc neighbor hilari troll homophob bigot mike penc huge homophob support ex gay convers therapi oppos hate crime protect lgbtq peopl staunchli marriag equal said believ sex coupl lead societ collaps end folk forc live near vice presid elect near newli rent hous washington dc none happi new neighbor howev instead protest ralli street decid troll instead resid chevi chase neighborhood hang larg rainbow flag home send signal mike penc homophobia welcom neck wood accord local station wjla respect messag show case disagr think said ils heintzen heintzen refer vice presid elect mike penc penc move hous heintzen block stay move vice presid mansion ground naval observatori next year neighbor start hang pride flag vp elect move lgbtq commun critic penc polici regard lgbtq right coupl imag collect rainbow f penc via twitter pride flag send messag mike penc outsid temporari dc home neighbor say come newschannel abc news lgbtq lgbt pic twitter com bfkfj yl tim barber abc timbarb decemb resid nw washington street vp elect penc rent hous send symbol messag resid may hang flag pic twitter com fldysmop suzann kennedi abc suzann novemb flag come accord local peopl great thing let penc know bigotri welcom best attempt display presenc hand like caus anoth meltdown trump undoubtedli accus peopl harass penc bigot view happen hamilton staff either way signal absolut toler bigotri matter hard push hope head explod one even take offic featur imag via chip somodevilla getti imag'\n",
            " ...\n",
            " 'atheist sue governor texa display capitol ground convinc freedom religion group atheist get enough attent kid perpetu offend everyth yet anoth case mock nativ scene childish display su texa governor took texa gov greg abbott su atheist group decis remov nativ scene parodi state capitol decemb freedom religion foundat announc feder lawsuit abbott western district texa austin divis thursday organ alleg governor violat free speech equal protect due process right order remov exhibit commemor birth bill right imag question approv texa state preserv board includ statu liberti found father bill right manger place state capitol dec remain three day abbott act mock capitol nativ scene offens demand remov satir nativ scene capitol abbott tweet dec governor also pen letter state preserv board juvenil parodi violat preserv board regul remov immedi biblic scene newli born jesu christ lie manger bethlehem lie heart christian faith subject imag held sacr million texan foundat tasteless sarcasm noth promot moral gener welfar abbott said contrari foundat spite messag intent design belittl offend undermin rather promot public purpos display promot bill right might otherwis read wnd'\n",
            " 'republican tax plan would deal financi hit u univers washington reuter republican tax plan unveil thursday stir anger u univers said propos tax endow privat institut repeal deduct student loan interest payment would hurt institut student bill republican led hous repres would increas student cost attend colleg billion accord analysi american council educ ace lead lobbi group higher educ plan would discourag particip postsecondari educ make colleg expens enrol undermin financi stabil public privat two year four year colleg univers ace presid ted mitchel said hous speaker paul ryan power republican congress told news confer tax plan would allow typic famili four save around year could go toward colleg save plan would establish percent tax earn larg privat school endow would also scrap deduct interest paid student loan congression analyst said would increas feder revenu billion year smaller tuition relat tax break also end presid donald trump fellow republican lock horn colleg univers say forc liber valu student privat colleg endow total billion accord nation associ colleg univers busi offic nacubo tax would appli endow least asset student enrol sinc univers must balanc budget may rais tuition cut program financi aid order cover new tax said nacubo feder affair director liz clark princeton univers use earn billion endow provid aid percent student pay academ program facil research said bob durke vice presid secretari new jersey school famili incom pay tuition said incom less also forgo pay room board end interest deduct would hurt peopl abil afford educ said justin draeger presid nation associ student financi aid administr us one thing talk whether fund effect use govern money help peopl afford colleg said anoth use offset unclear tax overhaul'\n",
            " 'u n refuge commission say australia must stop unfold humanitarian crisi png sydney reuter u n high commission refuge said australia must take immedi action stop unfold humanitarian emerg see asylum seeker barricad insid abandon detent center papua new guinea without food run water detaine manu island centr two day defi attempt australia papua new guinea close camp say fear violent repris local commun move transit center food exhaust mani men begin show ill effect two day without adequ nourish environ u n refuge commission said australia must urgent resolv papua new guinea australia remain respons well move papua new guinea adequ long term solut outsid countri found u n bodi said statement thursday manu center key part australia controversi sovereign border immigr polici refus allow asylum seeker arriv boat reach shore detain camp papua new guinea nauru south pacif unit nation right group year cite human right abus among detaine center papua new guinea high court rule last year manu center first open illeg camp schedul close oct secur staff withdrew men camp water power util camp cut wednesday desper sourc altern suppli dozen men work night use wooden pole dig deep hole find water use torch light task photo suppli reuter show without run water advoc fear rapid declin sanitari condit camp behrouz boochani kurdish journalist iran said men hunger strike call red cross medicin san frontier msf provid help msf said statement reuter deepli concern sadden australia papua new guinea respons care detaine australia said men move new transit center pledg million million worth food secur next month u n refuge commission said one new facil still makeshift camp compos ship contain contain surround mud electr water connect yet said reloc men design temporari measur allow unit state time complet vet refuge part refuge swap deal accept unit state option resettl papua new guinea none wish stay anoth develop countri lawyer detaine file suit papua new guinea suprem court prevent manu camp closur servic return rule expect later thursday although delay two day alreadi detaine come war torn countri afghanistan iran myanmar pakistan sri lanka syria']\n"
          ]
        }
      ]
    },
    {
      "cell_type": "code",
      "source": [
        "print(Y)"
      ],
      "metadata": {
        "colab": {
          "base_uri": "https://localhost:8080/"
        },
        "id": "teg1p5rzsPsn",
        "outputId": "ac477437-3009-4f6a-8e99-4c90db3d4d17"
      },
      "execution_count": 36,
      "outputs": [
        {
          "output_type": "stream",
          "name": "stdout",
          "text": [
            "[0 0 0 ... 0 1 1]\n"
          ]
        }
      ]
    },
    {
      "cell_type": "code",
      "source": [
        "#converting the textual data into numerical data\n",
        "vectorizer=TfidfVectorizer()\n",
        "vectorizer.fit(X)\n",
        "\n",
        "X=vectorizer.transform(X)"
      ],
      "metadata": {
        "id": "54QSxzhmsRk2"
      },
      "execution_count": 37,
      "outputs": []
    },
    {
      "cell_type": "code",
      "source": [
        "print(X)"
      ],
      "metadata": {
        "colab": {
          "base_uri": "https://localhost:8080/"
        },
        "id": "4CVsWKrPtutv",
        "outputId": "feb59ee7-9398-4b03-addf-6b6f0327dbea"
      },
      "execution_count": 38,
      "outputs": [
        {
          "output_type": "stream",
          "name": "stdout",
          "text": [
            "<Compressed Sparse Row sparse matrix of dtype 'float64'\n",
            "\twith 6904081 stored elements and shape (44898, 89868)>\n",
            "  Coords\tValues\n",
            "  (0, 570)\t0.06055486453372135\n",
            "  (0, 2286)\t0.04253552689623891\n",
            "  (0, 2301)\t0.025666202113816185\n",
            "  (0, 3031)\t0.063093661763644\n",
            "  (0, 3388)\t0.047259753130124114\n",
            "  (0, 6574)\t0.07041583382179394\n",
            "  (0, 7853)\t0.0898677958851911\n",
            "  (0, 7886)\t0.059913473329118644\n",
            "  (0, 9454)\t0.048097596645320734\n",
            "  (0, 10324)\t0.08231690448262517\n",
            "  (0, 11174)\t0.03296114815015033\n",
            "  (0, 11631)\t0.04919300578107092\n",
            "  (0, 12522)\t0.05138750652591612\n",
            "  (0, 12642)\t0.06680808165549404\n",
            "  (0, 13496)\t0.06811316396970238\n",
            "  (0, 13713)\t0.07112856852592032\n",
            "  (0, 13991)\t0.053000278097355684\n",
            "  (0, 14098)\t0.037972261733148126\n",
            "  (0, 14836)\t0.0869210456407381\n",
            "  (0, 14928)\t0.06842646468851935\n",
            "  (0, 15149)\t0.04165264736324387\n",
            "  (0, 15153)\t0.051876038877662234\n",
            "  (0, 15333)\t0.08494945735141231\n",
            "  (0, 15663)\t0.056535937666043194\n",
            "  (0, 15765)\t0.029199968119368196\n",
            "  :\t:\n",
            "  (44897, 77773)\t0.03757368913834899\n",
            "  (44897, 77960)\t0.01293068706666485\n",
            "  (44897, 78688)\t0.042561076129468856\n",
            "  (44897, 78704)\t0.040544018114292965\n",
            "  (44897, 79058)\t0.05779728742472851\n",
            "  (44897, 80447)\t0.04313047656027923\n",
            "  (44897, 81481)\t0.07874060468713938\n",
            "  (44897, 81621)\t0.04451315198091657\n",
            "  (44897, 82255)\t0.03796982127137953\n",
            "  (44897, 82341)\t0.030435493815230488\n",
            "  (44897, 82450)\t0.03850229932669336\n",
            "  (44897, 83260)\t0.033882067136460456\n",
            "  (44897, 83611)\t0.02756733398300722\n",
            "  (44897, 84581)\t0.020184813480884824\n",
            "  (44897, 84769)\t0.13810212379455322\n",
            "  (44897, 85054)\t0.018516634241257903\n",
            "  (44897, 85198)\t0.01690775168103281\n",
            "  (44897, 86130)\t0.030132938735777468\n",
            "  (44897, 86169)\t0.040827065890862685\n",
            "  (44897, 86180)\t0.059445897055736864\n",
            "  (44897, 86481)\t0.04853978108940374\n",
            "  (44897, 86551)\t0.015240029412780992\n",
            "  (44897, 86624)\t0.029560471446670476\n",
            "  (44897, 87936)\t0.024069000877548073\n",
            "  (44897, 88056)\t0.021027619607628736\n"
          ]
        }
      ]
    },
    {
      "cell_type": "markdown",
      "source": [
        "Splitting the dataset into train and test data"
      ],
      "metadata": {
        "id": "3bhJ-caYxSlG"
      }
    },
    {
      "cell_type": "code",
      "source": [
        "X_train, X_test, Y_train, Y_test = train_test_split(X,Y,test_size=0.2,stratify=Y,random_state=2)"
      ],
      "metadata": {
        "id": "HqpwL_IMxBCU"
      },
      "execution_count": 39,
      "outputs": []
    },
    {
      "cell_type": "markdown",
      "source": [
        "Training the Model: Logistic Regression"
      ],
      "metadata": {
        "id": "oP14Me5Zxwns"
      }
    },
    {
      "cell_type": "code",
      "source": [
        "model=LogisticRegression()"
      ],
      "metadata": {
        "id": "Y_isxgN4xqKt"
      },
      "execution_count": 40,
      "outputs": []
    },
    {
      "cell_type": "code",
      "source": [
        "model.fit(X_train,Y_train)"
      ],
      "metadata": {
        "colab": {
          "base_uri": "https://localhost:8080/",
          "height": 80
        },
        "id": "ejXCoM1Xx2I5",
        "outputId": "e02d86c0-2ef6-4e35-b87e-2360e88424a3"
      },
      "execution_count": 41,
      "outputs": [
        {
          "output_type": "execute_result",
          "data": {
            "text/plain": [
              "LogisticRegression()"
            ],
            "text/html": [
              "<style>#sk-container-id-1 {\n",
              "  /* Definition of color scheme common for light and dark mode */\n",
              "  --sklearn-color-text: #000;\n",
              "  --sklearn-color-text-muted: #666;\n",
              "  --sklearn-color-line: gray;\n",
              "  /* Definition of color scheme for unfitted estimators */\n",
              "  --sklearn-color-unfitted-level-0: #fff5e6;\n",
              "  --sklearn-color-unfitted-level-1: #f6e4d2;\n",
              "  --sklearn-color-unfitted-level-2: #ffe0b3;\n",
              "  --sklearn-color-unfitted-level-3: chocolate;\n",
              "  /* Definition of color scheme for fitted estimators */\n",
              "  --sklearn-color-fitted-level-0: #f0f8ff;\n",
              "  --sklearn-color-fitted-level-1: #d4ebff;\n",
              "  --sklearn-color-fitted-level-2: #b3dbfd;\n",
              "  --sklearn-color-fitted-level-3: cornflowerblue;\n",
              "\n",
              "  /* Specific color for light theme */\n",
              "  --sklearn-color-text-on-default-background: var(--sg-text-color, var(--theme-code-foreground, var(--jp-content-font-color1, black)));\n",
              "  --sklearn-color-background: var(--sg-background-color, var(--theme-background, var(--jp-layout-color0, white)));\n",
              "  --sklearn-color-border-box: var(--sg-text-color, var(--theme-code-foreground, var(--jp-content-font-color1, black)));\n",
              "  --sklearn-color-icon: #696969;\n",
              "\n",
              "  @media (prefers-color-scheme: dark) {\n",
              "    /* Redefinition of color scheme for dark theme */\n",
              "    --sklearn-color-text-on-default-background: var(--sg-text-color, var(--theme-code-foreground, var(--jp-content-font-color1, white)));\n",
              "    --sklearn-color-background: var(--sg-background-color, var(--theme-background, var(--jp-layout-color0, #111)));\n",
              "    --sklearn-color-border-box: var(--sg-text-color, var(--theme-code-foreground, var(--jp-content-font-color1, white)));\n",
              "    --sklearn-color-icon: #878787;\n",
              "  }\n",
              "}\n",
              "\n",
              "#sk-container-id-1 {\n",
              "  color: var(--sklearn-color-text);\n",
              "}\n",
              "\n",
              "#sk-container-id-1 pre {\n",
              "  padding: 0;\n",
              "}\n",
              "\n",
              "#sk-container-id-1 input.sk-hidden--visually {\n",
              "  border: 0;\n",
              "  clip: rect(1px 1px 1px 1px);\n",
              "  clip: rect(1px, 1px, 1px, 1px);\n",
              "  height: 1px;\n",
              "  margin: -1px;\n",
              "  overflow: hidden;\n",
              "  padding: 0;\n",
              "  position: absolute;\n",
              "  width: 1px;\n",
              "}\n",
              "\n",
              "#sk-container-id-1 div.sk-dashed-wrapped {\n",
              "  border: 1px dashed var(--sklearn-color-line);\n",
              "  margin: 0 0.4em 0.5em 0.4em;\n",
              "  box-sizing: border-box;\n",
              "  padding-bottom: 0.4em;\n",
              "  background-color: var(--sklearn-color-background);\n",
              "}\n",
              "\n",
              "#sk-container-id-1 div.sk-container {\n",
              "  /* jupyter's `normalize.less` sets `[hidden] { display: none; }`\n",
              "     but bootstrap.min.css set `[hidden] { display: none !important; }`\n",
              "     so we also need the `!important` here to be able to override the\n",
              "     default hidden behavior on the sphinx rendered scikit-learn.org.\n",
              "     See: https://github.com/scikit-learn/scikit-learn/issues/21755 */\n",
              "  display: inline-block !important;\n",
              "  position: relative;\n",
              "}\n",
              "\n",
              "#sk-container-id-1 div.sk-text-repr-fallback {\n",
              "  display: none;\n",
              "}\n",
              "\n",
              "div.sk-parallel-item,\n",
              "div.sk-serial,\n",
              "div.sk-item {\n",
              "  /* draw centered vertical line to link estimators */\n",
              "  background-image: linear-gradient(var(--sklearn-color-text-on-default-background), var(--sklearn-color-text-on-default-background));\n",
              "  background-size: 2px 100%;\n",
              "  background-repeat: no-repeat;\n",
              "  background-position: center center;\n",
              "}\n",
              "\n",
              "/* Parallel-specific style estimator block */\n",
              "\n",
              "#sk-container-id-1 div.sk-parallel-item::after {\n",
              "  content: \"\";\n",
              "  width: 100%;\n",
              "  border-bottom: 2px solid var(--sklearn-color-text-on-default-background);\n",
              "  flex-grow: 1;\n",
              "}\n",
              "\n",
              "#sk-container-id-1 div.sk-parallel {\n",
              "  display: flex;\n",
              "  align-items: stretch;\n",
              "  justify-content: center;\n",
              "  background-color: var(--sklearn-color-background);\n",
              "  position: relative;\n",
              "}\n",
              "\n",
              "#sk-container-id-1 div.sk-parallel-item {\n",
              "  display: flex;\n",
              "  flex-direction: column;\n",
              "}\n",
              "\n",
              "#sk-container-id-1 div.sk-parallel-item:first-child::after {\n",
              "  align-self: flex-end;\n",
              "  width: 50%;\n",
              "}\n",
              "\n",
              "#sk-container-id-1 div.sk-parallel-item:last-child::after {\n",
              "  align-self: flex-start;\n",
              "  width: 50%;\n",
              "}\n",
              "\n",
              "#sk-container-id-1 div.sk-parallel-item:only-child::after {\n",
              "  width: 0;\n",
              "}\n",
              "\n",
              "/* Serial-specific style estimator block */\n",
              "\n",
              "#sk-container-id-1 div.sk-serial {\n",
              "  display: flex;\n",
              "  flex-direction: column;\n",
              "  align-items: center;\n",
              "  background-color: var(--sklearn-color-background);\n",
              "  padding-right: 1em;\n",
              "  padding-left: 1em;\n",
              "}\n",
              "\n",
              "\n",
              "/* Toggleable style: style used for estimator/Pipeline/ColumnTransformer box that is\n",
              "clickable and can be expanded/collapsed.\n",
              "- Pipeline and ColumnTransformer use this feature and define the default style\n",
              "- Estimators will overwrite some part of the style using the `sk-estimator` class\n",
              "*/\n",
              "\n",
              "/* Pipeline and ColumnTransformer style (default) */\n",
              "\n",
              "#sk-container-id-1 div.sk-toggleable {\n",
              "  /* Default theme specific background. It is overwritten whether we have a\n",
              "  specific estimator or a Pipeline/ColumnTransformer */\n",
              "  background-color: var(--sklearn-color-background);\n",
              "}\n",
              "\n",
              "/* Toggleable label */\n",
              "#sk-container-id-1 label.sk-toggleable__label {\n",
              "  cursor: pointer;\n",
              "  display: flex;\n",
              "  width: 100%;\n",
              "  margin-bottom: 0;\n",
              "  padding: 0.5em;\n",
              "  box-sizing: border-box;\n",
              "  text-align: center;\n",
              "  align-items: start;\n",
              "  justify-content: space-between;\n",
              "  gap: 0.5em;\n",
              "}\n",
              "\n",
              "#sk-container-id-1 label.sk-toggleable__label .caption {\n",
              "  font-size: 0.6rem;\n",
              "  font-weight: lighter;\n",
              "  color: var(--sklearn-color-text-muted);\n",
              "}\n",
              "\n",
              "#sk-container-id-1 label.sk-toggleable__label-arrow:before {\n",
              "  /* Arrow on the left of the label */\n",
              "  content: \"▸\";\n",
              "  float: left;\n",
              "  margin-right: 0.25em;\n",
              "  color: var(--sklearn-color-icon);\n",
              "}\n",
              "\n",
              "#sk-container-id-1 label.sk-toggleable__label-arrow:hover:before {\n",
              "  color: var(--sklearn-color-text);\n",
              "}\n",
              "\n",
              "/* Toggleable content - dropdown */\n",
              "\n",
              "#sk-container-id-1 div.sk-toggleable__content {\n",
              "  max-height: 0;\n",
              "  max-width: 0;\n",
              "  overflow: hidden;\n",
              "  text-align: left;\n",
              "  /* unfitted */\n",
              "  background-color: var(--sklearn-color-unfitted-level-0);\n",
              "}\n",
              "\n",
              "#sk-container-id-1 div.sk-toggleable__content.fitted {\n",
              "  /* fitted */\n",
              "  background-color: var(--sklearn-color-fitted-level-0);\n",
              "}\n",
              "\n",
              "#sk-container-id-1 div.sk-toggleable__content pre {\n",
              "  margin: 0.2em;\n",
              "  border-radius: 0.25em;\n",
              "  color: var(--sklearn-color-text);\n",
              "  /* unfitted */\n",
              "  background-color: var(--sklearn-color-unfitted-level-0);\n",
              "}\n",
              "\n",
              "#sk-container-id-1 div.sk-toggleable__content.fitted pre {\n",
              "  /* unfitted */\n",
              "  background-color: var(--sklearn-color-fitted-level-0);\n",
              "}\n",
              "\n",
              "#sk-container-id-1 input.sk-toggleable__control:checked~div.sk-toggleable__content {\n",
              "  /* Expand drop-down */\n",
              "  max-height: 200px;\n",
              "  max-width: 100%;\n",
              "  overflow: auto;\n",
              "}\n",
              "\n",
              "#sk-container-id-1 input.sk-toggleable__control:checked~label.sk-toggleable__label-arrow:before {\n",
              "  content: \"▾\";\n",
              "}\n",
              "\n",
              "/* Pipeline/ColumnTransformer-specific style */\n",
              "\n",
              "#sk-container-id-1 div.sk-label input.sk-toggleable__control:checked~label.sk-toggleable__label {\n",
              "  color: var(--sklearn-color-text);\n",
              "  background-color: var(--sklearn-color-unfitted-level-2);\n",
              "}\n",
              "\n",
              "#sk-container-id-1 div.sk-label.fitted input.sk-toggleable__control:checked~label.sk-toggleable__label {\n",
              "  background-color: var(--sklearn-color-fitted-level-2);\n",
              "}\n",
              "\n",
              "/* Estimator-specific style */\n",
              "\n",
              "/* Colorize estimator box */\n",
              "#sk-container-id-1 div.sk-estimator input.sk-toggleable__control:checked~label.sk-toggleable__label {\n",
              "  /* unfitted */\n",
              "  background-color: var(--sklearn-color-unfitted-level-2);\n",
              "}\n",
              "\n",
              "#sk-container-id-1 div.sk-estimator.fitted input.sk-toggleable__control:checked~label.sk-toggleable__label {\n",
              "  /* fitted */\n",
              "  background-color: var(--sklearn-color-fitted-level-2);\n",
              "}\n",
              "\n",
              "#sk-container-id-1 div.sk-label label.sk-toggleable__label,\n",
              "#sk-container-id-1 div.sk-label label {\n",
              "  /* The background is the default theme color */\n",
              "  color: var(--sklearn-color-text-on-default-background);\n",
              "}\n",
              "\n",
              "/* On hover, darken the color of the background */\n",
              "#sk-container-id-1 div.sk-label:hover label.sk-toggleable__label {\n",
              "  color: var(--sklearn-color-text);\n",
              "  background-color: var(--sklearn-color-unfitted-level-2);\n",
              "}\n",
              "\n",
              "/* Label box, darken color on hover, fitted */\n",
              "#sk-container-id-1 div.sk-label.fitted:hover label.sk-toggleable__label.fitted {\n",
              "  color: var(--sklearn-color-text);\n",
              "  background-color: var(--sklearn-color-fitted-level-2);\n",
              "}\n",
              "\n",
              "/* Estimator label */\n",
              "\n",
              "#sk-container-id-1 div.sk-label label {\n",
              "  font-family: monospace;\n",
              "  font-weight: bold;\n",
              "  display: inline-block;\n",
              "  line-height: 1.2em;\n",
              "}\n",
              "\n",
              "#sk-container-id-1 div.sk-label-container {\n",
              "  text-align: center;\n",
              "}\n",
              "\n",
              "/* Estimator-specific */\n",
              "#sk-container-id-1 div.sk-estimator {\n",
              "  font-family: monospace;\n",
              "  border: 1px dotted var(--sklearn-color-border-box);\n",
              "  border-radius: 0.25em;\n",
              "  box-sizing: border-box;\n",
              "  margin-bottom: 0.5em;\n",
              "  /* unfitted */\n",
              "  background-color: var(--sklearn-color-unfitted-level-0);\n",
              "}\n",
              "\n",
              "#sk-container-id-1 div.sk-estimator.fitted {\n",
              "  /* fitted */\n",
              "  background-color: var(--sklearn-color-fitted-level-0);\n",
              "}\n",
              "\n",
              "/* on hover */\n",
              "#sk-container-id-1 div.sk-estimator:hover {\n",
              "  /* unfitted */\n",
              "  background-color: var(--sklearn-color-unfitted-level-2);\n",
              "}\n",
              "\n",
              "#sk-container-id-1 div.sk-estimator.fitted:hover {\n",
              "  /* fitted */\n",
              "  background-color: var(--sklearn-color-fitted-level-2);\n",
              "}\n",
              "\n",
              "/* Specification for estimator info (e.g. \"i\" and \"?\") */\n",
              "\n",
              "/* Common style for \"i\" and \"?\" */\n",
              "\n",
              ".sk-estimator-doc-link,\n",
              "a:link.sk-estimator-doc-link,\n",
              "a:visited.sk-estimator-doc-link {\n",
              "  float: right;\n",
              "  font-size: smaller;\n",
              "  line-height: 1em;\n",
              "  font-family: monospace;\n",
              "  background-color: var(--sklearn-color-background);\n",
              "  border-radius: 1em;\n",
              "  height: 1em;\n",
              "  width: 1em;\n",
              "  text-decoration: none !important;\n",
              "  margin-left: 0.5em;\n",
              "  text-align: center;\n",
              "  /* unfitted */\n",
              "  border: var(--sklearn-color-unfitted-level-1) 1pt solid;\n",
              "  color: var(--sklearn-color-unfitted-level-1);\n",
              "}\n",
              "\n",
              ".sk-estimator-doc-link.fitted,\n",
              "a:link.sk-estimator-doc-link.fitted,\n",
              "a:visited.sk-estimator-doc-link.fitted {\n",
              "  /* fitted */\n",
              "  border: var(--sklearn-color-fitted-level-1) 1pt solid;\n",
              "  color: var(--sklearn-color-fitted-level-1);\n",
              "}\n",
              "\n",
              "/* On hover */\n",
              "div.sk-estimator:hover .sk-estimator-doc-link:hover,\n",
              ".sk-estimator-doc-link:hover,\n",
              "div.sk-label-container:hover .sk-estimator-doc-link:hover,\n",
              ".sk-estimator-doc-link:hover {\n",
              "  /* unfitted */\n",
              "  background-color: var(--sklearn-color-unfitted-level-3);\n",
              "  color: var(--sklearn-color-background);\n",
              "  text-decoration: none;\n",
              "}\n",
              "\n",
              "div.sk-estimator.fitted:hover .sk-estimator-doc-link.fitted:hover,\n",
              ".sk-estimator-doc-link.fitted:hover,\n",
              "div.sk-label-container:hover .sk-estimator-doc-link.fitted:hover,\n",
              ".sk-estimator-doc-link.fitted:hover {\n",
              "  /* fitted */\n",
              "  background-color: var(--sklearn-color-fitted-level-3);\n",
              "  color: var(--sklearn-color-background);\n",
              "  text-decoration: none;\n",
              "}\n",
              "\n",
              "/* Span, style for the box shown on hovering the info icon */\n",
              ".sk-estimator-doc-link span {\n",
              "  display: none;\n",
              "  z-index: 9999;\n",
              "  position: relative;\n",
              "  font-weight: normal;\n",
              "  right: .2ex;\n",
              "  padding: .5ex;\n",
              "  margin: .5ex;\n",
              "  width: min-content;\n",
              "  min-width: 20ex;\n",
              "  max-width: 50ex;\n",
              "  color: var(--sklearn-color-text);\n",
              "  box-shadow: 2pt 2pt 4pt #999;\n",
              "  /* unfitted */\n",
              "  background: var(--sklearn-color-unfitted-level-0);\n",
              "  border: .5pt solid var(--sklearn-color-unfitted-level-3);\n",
              "}\n",
              "\n",
              ".sk-estimator-doc-link.fitted span {\n",
              "  /* fitted */\n",
              "  background: var(--sklearn-color-fitted-level-0);\n",
              "  border: var(--sklearn-color-fitted-level-3);\n",
              "}\n",
              "\n",
              ".sk-estimator-doc-link:hover span {\n",
              "  display: block;\n",
              "}\n",
              "\n",
              "/* \"?\"-specific style due to the `<a>` HTML tag */\n",
              "\n",
              "#sk-container-id-1 a.estimator_doc_link {\n",
              "  float: right;\n",
              "  font-size: 1rem;\n",
              "  line-height: 1em;\n",
              "  font-family: monospace;\n",
              "  background-color: var(--sklearn-color-background);\n",
              "  border-radius: 1rem;\n",
              "  height: 1rem;\n",
              "  width: 1rem;\n",
              "  text-decoration: none;\n",
              "  /* unfitted */\n",
              "  color: var(--sklearn-color-unfitted-level-1);\n",
              "  border: var(--sklearn-color-unfitted-level-1) 1pt solid;\n",
              "}\n",
              "\n",
              "#sk-container-id-1 a.estimator_doc_link.fitted {\n",
              "  /* fitted */\n",
              "  border: var(--sklearn-color-fitted-level-1) 1pt solid;\n",
              "  color: var(--sklearn-color-fitted-level-1);\n",
              "}\n",
              "\n",
              "/* On hover */\n",
              "#sk-container-id-1 a.estimator_doc_link:hover {\n",
              "  /* unfitted */\n",
              "  background-color: var(--sklearn-color-unfitted-level-3);\n",
              "  color: var(--sklearn-color-background);\n",
              "  text-decoration: none;\n",
              "}\n",
              "\n",
              "#sk-container-id-1 a.estimator_doc_link.fitted:hover {\n",
              "  /* fitted */\n",
              "  background-color: var(--sklearn-color-fitted-level-3);\n",
              "}\n",
              "</style><div id=\"sk-container-id-1\" class=\"sk-top-container\"><div class=\"sk-text-repr-fallback\"><pre>LogisticRegression()</pre><b>In a Jupyter environment, please rerun this cell to show the HTML representation or trust the notebook. <br />On GitHub, the HTML representation is unable to render, please try loading this page with nbviewer.org.</b></div><div class=\"sk-container\" hidden><div class=\"sk-item\"><div class=\"sk-estimator fitted sk-toggleable\"><input class=\"sk-toggleable__control sk-hidden--visually\" id=\"sk-estimator-id-1\" type=\"checkbox\" checked><label for=\"sk-estimator-id-1\" class=\"sk-toggleable__label fitted sk-toggleable__label-arrow\"><div><div>LogisticRegression</div></div><div><a class=\"sk-estimator-doc-link fitted\" rel=\"noreferrer\" target=\"_blank\" href=\"https://scikit-learn.org/1.6/modules/generated/sklearn.linear_model.LogisticRegression.html\">?<span>Documentation for LogisticRegression</span></a><span class=\"sk-estimator-doc-link fitted\">i<span>Fitted</span></span></div></label><div class=\"sk-toggleable__content fitted\"><pre>LogisticRegression()</pre></div> </div></div></div></div>"
            ]
          },
          "metadata": {},
          "execution_count": 41
        }
      ]
    },
    {
      "cell_type": "markdown",
      "source": [
        "Evaluation of our model (accuracy score)"
      ],
      "metadata": {
        "id": "cOHv7FzgyPBV"
      }
    },
    {
      "cell_type": "code",
      "source": [
        "#checking accuracy\n",
        "X_train_prediction=model.predict(X_train)\n",
        "training_data_accuracy=accuracy_score(X_train_prediction, Y_train)"
      ],
      "metadata": {
        "id": "vGrcHK1QyGSI"
      },
      "execution_count": 49,
      "outputs": []
    },
    {
      "cell_type": "code",
      "source": [
        "print(\"Accuracy score of training data: \",training_data_accuracy)"
      ],
      "metadata": {
        "colab": {
          "base_uri": "https://localhost:8080/"
        },
        "id": "Tp9QeDU_yhuK",
        "outputId": "5a70675a-ea2d-4c7d-c9a6-354021fa2cda"
      },
      "execution_count": 50,
      "outputs": [
        {
          "output_type": "stream",
          "name": "stdout",
          "text": [
            "Accuracy score of training data:  0.9919260537891865\n"
          ]
        }
      ]
    },
    {
      "cell_type": "code",
      "source": [
        "#checking accuracy on test data\n",
        "X_test_prediction=model.predict(X_test)\n",
        "test_data_accuracy=accuracy_score(X_test_prediction, Y_test)"
      ],
      "metadata": {
        "id": "84DYMNePykwt"
      },
      "execution_count": 51,
      "outputs": []
    },
    {
      "cell_type": "code",
      "source": [
        "print(\"Accuracy score of test data: \",test_data_accuracy)"
      ],
      "metadata": {
        "colab": {
          "base_uri": "https://localhost:8080/"
        },
        "id": "-rpssmqhy8AI",
        "outputId": "36b97708-cfeb-4bd4-f8a1-a2770917e18b"
      },
      "execution_count": 52,
      "outputs": [
        {
          "output_type": "stream",
          "name": "stdout",
          "text": [
            "Accuracy score of test data:  0.9865256124721603\n"
          ]
        }
      ]
    },
    {
      "cell_type": "markdown",
      "source": [
        "Making a predictive system"
      ],
      "metadata": {
        "id": "zzhAgmN-zRaU"
      }
    },
    {
      "cell_type": "code",
      "source": [
        "X_new=X_test[363]\n",
        "\n",
        "prediction=model.predict(X_new)\n",
        "print(prediction)\n",
        "\n",
        "if(prediction[0]==0):\n",
        "  print(\"The news is fake\")\n",
        "else:\n",
        "  print(\"The news is real\")"
      ],
      "metadata": {
        "colab": {
          "base_uri": "https://localhost:8080/"
        },
        "id": "H6POWPttzO59",
        "outputId": "0dfa39e2-a901-4624-de5c-f2396e1b4389"
      },
      "execution_count": 58,
      "outputs": [
        {
          "output_type": "stream",
          "name": "stdout",
          "text": [
            "[0]\n",
            "The news is fake\n"
          ]
        }
      ]
    },
    {
      "cell_type": "code",
      "source": [
        "print(Y_test[363])"
      ],
      "metadata": {
        "colab": {
          "base_uri": "https://localhost:8080/"
        },
        "id": "zH6cydN2zdvO",
        "outputId": "11f19efa-5f97-4979-80c0-55b8c7bd50bc"
      },
      "execution_count": 59,
      "outputs": [
        {
          "output_type": "stream",
          "name": "stdout",
          "text": [
            "0\n"
          ]
        }
      ]
    }
  ]
}